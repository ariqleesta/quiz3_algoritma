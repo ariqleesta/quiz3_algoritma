{
 "cells": [
  {
   "cell_type": "code",
   "execution_count": 1,
   "metadata": {},
   "outputs": [],
   "source": [
    "import pandas as pd\n",
    "import matplotlib as plt"
   ]
  },
  {
   "cell_type": "markdown",
   "metadata": {},
   "source": [
    "# Graded Assignment\n",
    "\n",
    "The data we're going to use is the invoice summary of a transaction data of an online retail shop provided from UCI Machine Learning [repository](https://archive.ics.uci.edu/ml/datasets/online+retail). All the transactions occurring between end of 2010 to end of 2011 for a UK-based and registered non-store online retail."
   ]
  },
  {
   "cell_type": "code",
   "execution_count": 2,
   "metadata": {},
   "outputs": [
    {
     "data": {
      "text/html": [
       "<div>\n",
       "<style scoped>\n",
       "    .dataframe tbody tr th:only-of-type {\n",
       "        vertical-align: middle;\n",
       "    }\n",
       "\n",
       "    .dataframe tbody tr th {\n",
       "        vertical-align: top;\n",
       "    }\n",
       "\n",
       "    .dataframe thead th {\n",
       "        text-align: right;\n",
       "    }\n",
       "</style>\n",
       "<table border=\"1\" class=\"dataframe\">\n",
       "  <thead>\n",
       "    <tr style=\"text-align: right;\">\n",
       "      <th></th>\n",
       "      <th>InvoiceNo</th>\n",
       "      <th>UniqueItem</th>\n",
       "      <th>TotalPrice</th>\n",
       "      <th>CustomerID</th>\n",
       "      <th>Country</th>\n",
       "      <th>InvoiceDate</th>\n",
       "    </tr>\n",
       "  </thead>\n",
       "  <tbody>\n",
       "    <tr>\n",
       "      <th>0</th>\n",
       "      <td>536365</td>\n",
       "      <td>7</td>\n",
       "      <td>139.12</td>\n",
       "      <td>17850.0</td>\n",
       "      <td>United Kingdom</td>\n",
       "      <td>2010-12-01 08:26:00</td>\n",
       "    </tr>\n",
       "    <tr>\n",
       "      <th>1</th>\n",
       "      <td>536366</td>\n",
       "      <td>2</td>\n",
       "      <td>22.20</td>\n",
       "      <td>17850.0</td>\n",
       "      <td>United Kingdom</td>\n",
       "      <td>2010-12-01 08:28:00</td>\n",
       "    </tr>\n",
       "    <tr>\n",
       "      <th>2</th>\n",
       "      <td>536367</td>\n",
       "      <td>12</td>\n",
       "      <td>278.73</td>\n",
       "      <td>13047.0</td>\n",
       "      <td>United Kingdom</td>\n",
       "      <td>2010-12-01 08:34:00</td>\n",
       "    </tr>\n",
       "    <tr>\n",
       "      <th>3</th>\n",
       "      <td>536368</td>\n",
       "      <td>4</td>\n",
       "      <td>70.05</td>\n",
       "      <td>13047.0</td>\n",
       "      <td>United Kingdom</td>\n",
       "      <td>2010-12-01 08:34:00</td>\n",
       "    </tr>\n",
       "    <tr>\n",
       "      <th>4</th>\n",
       "      <td>536369</td>\n",
       "      <td>1</td>\n",
       "      <td>17.85</td>\n",
       "      <td>13047.0</td>\n",
       "      <td>United Kingdom</td>\n",
       "      <td>2010-12-01 08:35:00</td>\n",
       "    </tr>\n",
       "  </tbody>\n",
       "</table>\n",
       "</div>"
      ],
      "text/plain": [
       "   InvoiceNo  UniqueItem  TotalPrice  CustomerID         Country  \\\n",
       "0     536365           7      139.12     17850.0  United Kingdom   \n",
       "1     536366           2       22.20     17850.0  United Kingdom   \n",
       "2     536367          12      278.73     13047.0  United Kingdom   \n",
       "3     536368           4       70.05     13047.0  United Kingdom   \n",
       "4     536369           1       17.85     13047.0  United Kingdom   \n",
       "\n",
       "           InvoiceDate  \n",
       "0  2010-12-01 08:26:00  \n",
       "1  2010-12-01 08:28:00  \n",
       "2  2010-12-01 08:34:00  \n",
       "3  2010-12-01 08:34:00  \n",
       "4  2010-12-01 08:35:00  "
      ]
     },
     "execution_count": 2,
     "metadata": {},
     "output_type": "execute_result"
    }
   ],
   "source": [
    "invoice = pd.read_csv('data_input/retail_invoice.csv')\n",
    "invoice.head()"
   ]
  },
  {
   "cell_type": "markdown",
   "metadata": {},
   "source": [
    "Before you go any further, check the data `dtypes` and make sure all of our columns have stored in the correct data type!"
   ]
  },
  {
   "cell_type": "code",
   "execution_count": 3,
   "metadata": {},
   "outputs": [],
   "source": [
    "## Your code here\n",
    "\n"
   ]
  },
  {
   "cell_type": "markdown",
   "metadata": {},
   "source": [
    "Create a barchart which compares the **total** revenue (`TotalPrice`) from international markets (all countries except UK).\n",
    "\n",
    "*Hint*:\n",
    "- You may start by creating a new dataframe which stores all the invoices data from all countries except UK (`invoice.Country != 'United Kingdom'`).\n",
    "- Perform a group by aggregation to get the total(`sum`) revenue (`TotalPrice`) by each country\n",
    "- Pair the dataframe with `.plot(kind=bar)` to get the barchart!"
   ]
  },
  {
   "cell_type": "markdown",
   "metadata": {},
   "source": [
    "1. Which of the following are **not** among the top 5 largest market by revenue (has highest `Total Price`)?\n",
    "    - [ ] Netherland\n",
    "    - [ ] EIRE\n",
    "    - [ ] Germany\n",
    "    - [ ] Spain\n",
    "\n",
    "\n",
    "2. Take a look at the `x` axis of your plot. Does the `Country` arranged by its alphabetical order or based on its revenue (`TotalPrice` value)? Which order do you think suits our plot the most and how to achieve it?\n",
    "    - [ ] by alphabetical order: `df.sort_values('Country', ascending = False).plot(kind='bar')`\n",
    "    - [ ] by alphabetical order: `df.plot(kind='bar', ascending = False)`\n",
    "    - [ ] by revenue: `df.sort_values('TotalPrice', ascending=False).plot(kind='bar')`\n",
    "    - [ ] by revenue: `df.plot(kind='bar', ascending = False)` "
   ]
  },
  {
   "cell_type": "markdown",
   "metadata": {},
   "source": [
    "A common way to statistically inspecting a data is using box plot, a handy visualization tools that provide a five number summary for your data.\n",
    "\n",
    "Say, we want to create a boxplot that shows different distribution shape of monthly revenue within each country. \n"
   ]
  },
  {
   "cell_type": "markdown",
   "metadata": {},
   "source": [
    "\n",
    "```\n",
    "invoice_int['InvoiceMonth'] = invoice_int['InvoiceDate'].____\n",
    "\n",
    "invoice_monthly = invoice_int.\\\n",
    "groupby(____).\\\n",
    "agg({'TotalPrice': 'sum'})\n",
    "\n",
    "invoice_monthly.\\\n",
    "boxplot(column = ____, by=____)\n",
    "```\n",
    "\n",
    "3. Try to complete above code to create the desired boxplot:\n",
    " - [ ] `.dt.months()`, `['Country', 'InvoiceMonth']`, `TotalPrice`, `InvoiceMonth`\n",
    " - [ ] `.dt.to_period('M')`, `['Country', 'InvoiceMonth']`, `TotalPrice`, `InvoiceMonth`\n",
    " - [ ] `.dt.months()`, `InvoiceMonth`, `TotalPrice`, `InvoiceMonth`\n",
    " - [ ] `.dt.to_period('M')`, `InvoiceMonth`, `InvoiceMonth`, `TotalPrice`"
   ]
  },
  {
   "cell_type": "markdown",
   "metadata": {},
   "source": [
    "Identifying outliers can also help us accelerate our exploratory process. For example, let's take the latest month from our data, June 2011. \n",
    "\n",
    "```\n",
    "invoice_june = invoice_monthly.xs(key = ...., level= ....)\n",
    "\n",
    "invoice_june[invoice_june['TotalPrice'] > ....]\n",
    "\n",
    "```\n",
    "\n",
    "\n",
    "4. Say, we want to identify the outliers during that period, how would you subset it? Try to complete above code:\n",
    "    - [ ] `2011-06`, 0, 13000\n",
    "    - [ ] `2011-06`,`InvoiceMonth`, 24000\n",
    "    - [ ] `2011-06`, 1, 13000\n",
    "    - [ ] `2011-06`, `InvoiceMonth`, 24000\n"
   ]
  },
  {
   "cell_type": "markdown",
   "metadata": {},
   "source": [
    "5. Which countries are **NOT** among the outliers shown by the code above?\n",
    "   - [ ] Germany\n",
    "   - [ ] France\n",
    "   - [ ] Australia\n",
    "   - [ ] EIRE"
   ]
  }
 ],
 "metadata": {
  "kernelspec": {
   "display_name": "academy",
   "language": "python",
   "name": "academy"
  },
  "language_info": {
   "codemirror_mode": {
    "name": "ipython",
    "version": 3
   },
   "file_extension": ".py",
   "mimetype": "text/x-python",
   "name": "python",
   "nbconvert_exporter": "python",
   "pygments_lexer": "ipython3",
   "version": "3.7.5"
  },
  "latex_envs": {
   "LaTeX_envs_menu_present": true,
   "autoclose": false,
   "autocomplete": true,
   "bibliofile": "biblio.bib",
   "cite_by": "apalike",
   "current_citInitial": 1,
   "eqLabelWithNumbers": true,
   "eqNumInitial": 1,
   "hotkeys": {
    "equation": "Ctrl-E",
    "itemize": "Ctrl-I"
   },
   "labels_anchors": false,
   "latex_user_defs": false,
   "report_style_numbering": false,
   "user_envs_cfg": false
  },
  "toc": {
   "base_numbering": 1,
   "nav_menu": {},
   "number_sections": true,
   "sideBar": true,
   "skip_h1_title": false,
   "title_cell": "Table of Contents",
   "title_sidebar": "Contents",
   "toc_cell": false,
   "toc_position": {},
   "toc_section_display": true,
   "toc_window_display": false
  }
 },
 "nbformat": 4,
 "nbformat_minor": 2
}
